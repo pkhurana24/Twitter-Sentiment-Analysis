{
 "cells": [
  {
   "cell_type": "code",
   "execution_count": 7,
   "metadata": {},
   "outputs": [],
   "source": [
    "import twitter"
   ]
  },
  {
   "cell_type": "code",
   "execution_count": 8,
   "metadata": {},
   "outputs": [
    {
     "name": "stdout",
     "output_type": "stream",
     "text": [
      "{\"created_at\": \"Tue May 21 05:53:12 +0000 2019\", \"default_profile\": true, \"default_profile_image\": true, \"followers_count\": 2, \"id\": 1130713130789613568, \"id_str\": \"1130713130789613568\", \"name\": \"Palak Khurana\", \"profile_background_color\": \"F5F8FA\", \"profile_image_url\": \"http://abs.twimg.com/sticky/default_profile_images/default_profile_normal.png\", \"profile_image_url_https\": \"https://abs.twimg.com/sticky/default_profile_images/default_profile_normal.png\", \"profile_link_color\": \"1DA1F2\", \"profile_sidebar_border_color\": \"C0DEED\", \"profile_sidebar_fill_color\": \"DDEEF6\", \"profile_text_color\": \"333333\", \"profile_use_background_image\": true, \"screen_name\": \"PalakKhurana5\"}\n"
     ]
    }
   ],
   "source": [
    "# initialize api instance\n",
    "twitter_api = twitter.Api(consumer_key='yrAwcJguWKkgsncqvpdIGxqMi',\n",
    "                        consumer_secret='KAeXXRYLcjBOTmUNtpumoa0TgB7LR1i7qeaq2ZNms1VXs3G4ko',\n",
    "                        access_token_key='1130713130789613568-PYQd3UNmgj5IA7XLsL7xWBXtdjmM6W',\n",
    "                        access_token_secret='xkOpueFmf6VBmPHss2POaI1U8XcAvXVMSuhlLiZZWzqc1')\n",
    "\n",
    "# test authentication\n",
    "print(twitter_api.VerifyCredentials())"
   ]
  },
  {
   "cell_type": "code",
   "execution_count": 9,
   "metadata": {},
   "outputs": [
    {
     "name": "stdout",
     "output_type": "stream",
     "text": [
      "Enter a search keyword:#pp\n",
      "Fetched 100 tweets for the term #pp\n",
      "[{'text': '\\xbfQui\\xe9n gobernaba cuando se hicieron dos refer\\xe9ndums ilegales y se declar\\xf3 unilateralmente la independencia? El #PP.\\u2026 https://t.co/V9R9z6ioFJ', 'label': None}, {'text': '\\U0001f4e3Promesas: El PP andaluz apoya el derecho de los padres a rechazar el adoctrinamiento en ideolog\\xeda de g\\xe9nero de sus\\u2026 https://t.co/R0LSRxuzGq', 'label': None}, {'text': '\\U0001f5e3 @MariMarBlanco_, candidata al Congreso por #\\xc1lava: \\u201cPido a la gente cansada de la incapacidad de S\\xe1nchez y con ga\\u2026 https://t.co/d43jxJZkSr', 'label': None}, {'text': '#Espa\\xf1a #10N #Pancatalanismo #PSOE #PP #Cs #UP #Vox #M\\xe1sPa\\xeds\\n#S\\xe1nchez #Casado #Rivera #Iglesias #Abascal #Errej\\xf3n\\ny6 https://t.co/vOCBfkw6T1', 'label': None}]\n"
     ]
    }
   ],
   "source": [
    "def buildTestSet(search_keyword):\n",
    "    try:\n",
    "        tweets_fetched = twitter_api.GetSearch(search_keyword, count = 100)\n",
    "        \n",
    "        print(\"Fetched \" + str(len(tweets_fetched)) + \" tweets for the term \" + search_keyword)\n",
    "        \n",
    "        return [{\"text\":status.text, \"label\":None} for status in tweets_fetched]\n",
    "    except:\n",
    "        print(\"Unfortunately, something went wrong..\")\n",
    "        return None\n",
    "\n",
    "search_term = input(\"Enter a search keyword:\")\n",
    "testDataSet = buildTestSet(search_term)\n",
    "\n",
    "print(ascii(testDataSet[0:4]))"
   ]
  },
  {
   "cell_type": "code",
   "execution_count": 4,
   "metadata": {},
   "outputs": [
    {
     "data": {
      "text/plain": [
       "'def buildTrainingSet(corpusFile, tweetDataFile):\\n    import csv\\n    import time\\n    \\n    corpus = []\\n    \\n    with open(corpusFile,\\'rb\\') as csvfile:\\n        lineReader = csv.reader(csvfile,delimiter=\\',\\', quotechar=\"\"\")\\n        for row in lineReader:\\n            corpus.append({\"tweet_id\":row[2], \"label\":row[1], \"topic\":row[0]})\\n            \\n    rate_limit = 180\\n    sleep_time = 900/180\\n    \\n    trainingDataSet = []\\n    \\n    for tweet in corpus:\\n        try:\\n            status = twitter_api.GetStatus(tweet[\"tweet_id\"])\\n            print(\"Tweet fetched\" + status.text)\\n            tweet[\"text\"] = status.text\\n            trainingDataSet.append(tweet)\\n            time.sleep(sleep_time) \\n        except: \\n            continue\\n    with open(tweetDataFile,\\'wb\\') as csvfile:\\n        linewriter = csv.writer(csvfile,delimiter=\\',\\',quotechar=\"\"\")\\n        for tweet in trainingDataSet:\\n            try:\\n                linewriter.writerow([tweet[\"tweet_id\"], tweet[\"text\"], tweet[\"label\"], tweet[\"topic\"]])\\n            except Exception as e:\\n                print(e)\\n    return trainingDataSet\\n    '"
      ]
     },
     "execution_count": 4,
     "metadata": {},
     "output_type": "execute_result"
    }
   ],
   "source": [
    "'''def buildTrainingSet(corpusFile, tweetDataFile):\n",
    "    import csv\n",
    "    import time\n",
    "    \n",
    "    corpus = []\n",
    "    \n",
    "    with open(corpusFile,'rb') as csvfile:\n",
    "        lineReader = csv.reader(csvfile,delimiter=',', quotechar=\"\\\"\")\n",
    "        for row in lineReader:\n",
    "            corpus.append({\"tweet_id\":row[2], \"label\":row[1], \"topic\":row[0]})\n",
    "            \n",
    "    rate_limit = 180\n",
    "    sleep_time = 900/180\n",
    "    \n",
    "    trainingDataSet = []\n",
    "    \n",
    "    for tweet in corpus:\n",
    "        try:\n",
    "            status = twitter_api.GetStatus(tweet[\"tweet_id\"])\n",
    "            print(\"Tweet fetched\" + status.text)\n",
    "            tweet[\"text\"] = status.text\n",
    "            trainingDataSet.append(tweet)\n",
    "            time.sleep(sleep_time) \n",
    "        except: \n",
    "            continue\n",
    "    with open(tweetDataFile,'wb') as csvfile:\n",
    "        linewriter = csv.writer(csvfile,delimiter=',',quotechar=\"\\\"\")\n",
    "        for tweet in trainingDataSet:\n",
    "            try:\n",
    "                linewriter.writerow([tweet[\"tweet_id\"], tweet[\"text\"], tweet[\"label\"], tweet[\"topic\"]])\n",
    "            except Exception as e:\n",
    "                print(e)\n",
    "    return trainingDataSet\n",
    "    '''"
   ]
  },
  {
   "cell_type": "code",
   "execution_count": 10,
   "metadata": {},
   "outputs": [
    {
     "name": "stdout",
     "output_type": "stream",
     "text": [
      "Tweet fetchedNow all @Apple has to do is get swype on the iphone and it will be crack. Iphone that is\n",
      "[{'code': 179, 'message': 'Sorry, you are not authorized to see this status.'}]\n",
      "Tweet fetchedHilarious @youtube video - guy does a duet with @apple 's Siri. Pretty much sums up the love affair! http://t.co/8ExbnQjY\n",
      "Tweet fetched@RIM you made it too easy for me to switch to @Apple iPhone. See ya!\n",
      "[{'code': 144, 'message': 'No status found with that ID.'}]\n",
      "[{'code': 144, 'message': 'No status found with that ID.'}]\n",
      "Tweet fetchedThe 16 strangest things Siri has said so far. I am SOOO glad that @Apple gave Siri a sense of humor! http://t.co/TWAeUDBp via @HappyPlace\n",
      "Tweet fetchedGreat up close & personal event @Apple tonight in Regent St store!\n",
      "Tweet fetchedFrom which companies do you experience the best customer service aside from @zappos and @apple?\n",
      "[{'code': 179, 'message': 'Sorry, you are not authorized to see this status.'}]\n",
      "[{'code': 144, 'message': 'No status found with that ID.'}]\n",
      "Tweet fetchedLmao I think @apple is onto something magical! I am DYING!!! haha. Siri suggested where to find whores and where to hide a body lolol\n",
      "Tweet fetchedRT @PhillipRowntree: Just registered as an @apple developer... Here's hoping I can actually do it... Any help, greatly appreciated!\n",
      "Tweet fetchedWow. Great deals on refurbed #iPad (first gen) models. RT: Apple offers great deals on refurbished 1st-gen iPads http://t.co/ukWOKBGd @Apple\n",
      "Tweet fetchedJust registered as an @apple developer... Here's hoping I can actually do it... Any help, greatly appreciated!\n",
      "Tweet fetched你好 ! Currently learning Mandarin for my upcoming trip to Hong Kong. I gotta hand it to @Apple iPhones & their uber useful flashcard apps  \n",
      "[{'code': 144, 'message': 'No status found with that ID.'}]\n",
      "Tweet fetchedCome to the dark side 📱“@gretcheneclark: Hey @apple, if you send me a free iPhone, I will publicly and ceremoniously burn my #BlackBerry.”\n",
      "[{'code': 144, 'message': 'No status found with that ID.'}]\n",
      "[{'code': 179, 'message': 'Sorry, you are not authorized to see this status.'}]\n",
      "[{'code': 144, 'message': 'No status found with that ID.'}]\n",
      "[{'code': 144, 'message': 'No status found with that ID.'}]\n",
      "Tweet fetchedThanks to @Apple Covent Garden #GeniusBar for replacing my MacBook keyboard/cracked wristpad during my lunch break today, out of warranty.\n",
      "Tweet fetched@DailyDealChat @apple Thanks!!\n",
      "Tweet fetchediPads Replace Bound Playbooks on Some N.F.L. Teams http://t.co/2UXAWKwf @apple @nytimes\n",
      "[{'code': 63, 'message': 'User has been suspended.'}]\n",
      "Tweet fetched@apple @siri is efffing amazing!!\n",
      "[{'code': 144, 'message': 'No status found with that ID.'}]\n",
      "Tweet fetchedRT @TripLingo: We're one of a few \"Featured Education Apps\" on the @Apple **Website** today, sweet! http://t.co/0yWvbe1Z\n",
      "Tweet fetchedWe're one of a few \"Featured Education Apps\" on the @Apple **Website** today, sweet! http://t.co/0yWvbe1Z\n",
      "[{'code': 144, 'message': 'No status found with that ID.'}]\n",
      "Tweet fetchedWe did an unexpected workshop for the #iPhone4S at @apple yesterday and we got an awesome amount of info #notjustaboutthephone @gamerchik16\n",
      "[{'code': 144, 'message': 'No status found with that ID.'}]\n",
      "Tweet fetched---» RT @Apple No question bro. RT @AintEeenTrippin: Should I get dis iPhone or a EVO 3D?\n",
      "Tweet fetchedRT @imightbewrong: I'm OVER people bitching about the #iPhone4S... I think it's the smartest phone I've ever had and I'm very happy.   : ...\n",
      "Tweet fetchedI'm OVER people bitching about the #iPhone4S... I think it's the smartest phone I've ever had and I'm very happy.   :)  Way to go @Apple!\n",
      "Tweet fetched@Twitter CEO points to @Apple as 'corporate mentor' as @iOS signups triple http://t.co/GCY8iphN\n",
      "Tweet fetchedAt the bus with my iPhone ;) thxx @apple\n",
      "Tweet fetched@azee1v1 @apple @umber AppStore is well done, so is iTunes on the mobile devices.  I was talking about desktop app.\n",
      "[{'code': 144, 'message': 'No status found with that ID.'}]\n",
      "Tweet fetchedNYTimes: Coach Wants to See You. And Bring Your iPad. http://t.co/J2FTiEnG #iPad @apple set red 42 red 42 hut hut @NFL wish I had an #iPad\n",
      "Tweet fetched@apple @jilive @DanielPink: Apple sells 4 million iPhone 4S units in first weekend ... Steve Jobs brilliance lives on for ever! #iphone #RVA\n",
      "[{'code': 179, 'message': 'Sorry, you are not authorized to see this status.'}]\n",
      "Tweet fetched@bkad5161 than apologize to @apple ;)\n",
      "Tweet fetched@Apple downloads of iOS 5 are proving popular with users  -- http://t.co/NSHLfiUX\n",
      "Tweet fetchedLmfao look at the argument I had with Siri !!\n",
      "@ijustine @apple http://t.co/D4VjL7SI\n",
      "Tweet fetchedIncredible: 4 million iPhone 4Ss in 3 days. 135% better than the iPhone 4 http://t.co/1FMJxTMM @apple #iphone4s\n",
      "[{'code': 144, 'message': 'No status found with that ID.'}]\n",
      "Tweet fetchedWell @apple fixed my #ios5 battery drain problem with a replacement iPhone 4 -- it's working like a champ now\n",
      "Tweet fetchedCurrently ordering a BRAND NEW MACBOOK PRO!!! Bahhh... my MacBook is 5 years old. I'll miss it. But it's time. cc: @Apple -\n",
      "[{'code': 144, 'message': 'No status found with that ID.'}]\n",
      "Tweet fetched#Siri now knows who my dad, mom, brother and girlfriend is.  Thanks @apple\n",
      "Tweet fetchedWell at least the @apple store has amazing call waiting music! #need4s\n",
      "Tweet fetched#sweet... #apple replaced my glass #probono. thank you @apple\n",
      "Tweet fetchedNot Bad! @Apple Sells Over 4 Million #IPhones in Debut Weekend - Bloomberg http://t.co/AVSl3ygU - #smartphone #sm RT @VinodRad\n",
      "Tweet fetchedloving new technology from @apple iPhone 4s, mac air and iCloud are unreal #technology\n",
      "Tweet fetchedI'm loving this new IOS5 update :) @apple\n",
      "Tweet fetchedAnother mention for Apple Store: http://t.co/fiIOApKt - RT @floridamike Once again getting great customer service from the @apple store ...\n",
      "[{'code': 144, 'message': 'No status found with that ID.'}]\n",
      "Tweet fetchedTime to go get my iPhone 4s.  Looking forward to sticking it to the man by no longer paying for most texts.  Thanks @apple.\n",
      "Tweet fetchedhey @apple I hate my computer i need a #mack wanna send me a free one.\n",
      "[{'code': 179, 'message': 'Sorry, you are not authorized to see this status.'}]\n",
      "Tweet fetched#iCloud set up was flawless and works like a champ! To the Cloud @Apple\n",
      "Tweet fetched@Wisconsin_Mommy @Apple I'd totally email the company... I always get great service at our @Apple store!\n",
      "Tweet fetched@apple loving the new IOS5 upgrade for the iPhone!\n",
      "[{'code': 144, 'message': 'No status found with that ID.'}]\n",
      "Tweet fetchedOnce again getting great customer service from the @apple store at millenia mall.\n",
      "Tweet fetchedIs it just me or is #iOS5 faster for the iPad? @apple\n",
      "[{'code': 144, 'message': 'No status found with that ID.'}]\n",
      "Tweet fetchedmaking the switch from @Android to @Apple #iphone #iphone4S #smartphone #stevejobs (@ Apple Store) http://t.co/kj6pJvkH\n",
      "Tweet fetchedSo THANKFUL for the incredible people @apple for going above and beyond and offering to and replacing my  water-damaged Macbook Pro!!! Wow!\n",
      "[{'code': 179, 'message': 'Sorry, you are not authorized to see this status.'}]\n",
      "Tweet fetchedPlay on ma man. Loving the camera in the #iphone4s. Well done @apple  #fb http://t.co/tmdFqRe1\n",
      "Tweet fetchedRT @cjwallace03: So apparently @apple put MB cap on your SMS with the new update. 25mb storage before it tells you your inbox is full. W ...\n",
      "Tweet fetchedRT @Jewelz2611 @mashable @apple, iphones r 2 expensive. Most went w/ htc/galaxy. No customer loyalty w/phone comp..\n",
      "Tweet fetched@mashable @apple, iphones r 2 expensive. Most went w/ htc/galaxy. No customer loyalty w/phone comp..\n",
      "[{'code': 144, 'message': 'No status found with that ID.'}]\n",
      "Tweet fetched@apple why my tunes no go on my iPhone? iPhone lonely without them. silly #iOS5\n",
      "Tweet fetched@apple needs to hurry up and release #iTunesMatch\n",
      "Tweet fetchedWhy is  #Siri always down @apple\n",
      "Tweet fetchedI just need to exchange a cord at the apple store why do I have to wait for a genius? @apple\n",
      "Tweet fetched@apple AirDrop #fail - Immediate \"declined your request.\" every time\n",
      "[{'code': 144, 'message': 'No status found with that ID.'}]\n",
      "[{'code': 179, 'message': 'Sorry, you are not authorized to see this status.'}]\n",
      "Tweet fetchedYellowgate? Some iPhone 4S Users Complain of Yellow Tint to Screen http://t.co/uaqrxTNk @apple @iphone4s\n"
     ]
    },
    {
     "name": "stdout",
     "output_type": "stream",
     "text": [
      "Tweet fetchedThe one #iphone feature still missing since @apple first showed it.. Contacts pictures on the contacts list! Simple yet 5 major updates miss\n",
      "Tweet fetchedAsked siri is she dreams of electric sleep. Was disappointed that she didn't have a snippy answer.  Missed opportunity @apple\n",
      "[{'code': 179, 'message': 'Sorry, you are not authorized to see this status.'}]\n",
      "[{'code': 144, 'message': 'No status found with that ID.'}]\n",
      "Tweet fetchedFUCK YOU @apple DIE IN A FUCKING BLAZE INFERNO.\n",
      "Tweet fetchedOh, @apple. Steve obviously had nothing to do with iPhoto, as it's the perfect opposite of 'insanely great'. Get it fixed, please.\n",
      "[{'code': 179, 'message': 'Sorry, you are not authorized to see this status.'}]\n",
      "[{'code': 179, 'message': 'Sorry, you are not authorized to see this status.'}]\n",
      "[{'code': 179, 'message': 'Sorry, you are not authorized to see this status.'}]\n",
      "[{'code': 179, 'message': 'Sorry, you are not authorized to see this status.'}]\n",
      "Tweet fetchedshit, shit, shit. IOS5 update ate all my apps, data and media just like @apple said it would. This is going to take some time to rebuild.\n",
      "Tweet fetched. @apple & @AT&T u cannot tell me there isn't at least 1 64GB iPhone 4S in LA or Vegas!! Give me a fucking break!!!!\n",
      "Tweet fetchedLove @apple downloads. 4 hours and i-pad now wonky! #ripstevejobs #thenonsensepersists #neednewipadguide #fatfuckingchance\n",
      "Tweet fetchedDear @apple My new Air is now a notbook since your update killed #wifi #bug #destroying #productivity\n",
      "Tweet fetchedI am so done with @Att and @apple 's profitering and lack of customer service, so fucking down with both!!!\n",
      "[{'code': 179, 'message': 'Sorry, you are not authorized to see this status.'}]\n",
      "Tweet fetched@apple thank you for ruining my 3GS with #iOS5. You've just turned my phone into an utterly useless pile of shit.\n",
      "Tweet fetched@rogerweir no but I have the option of a  replacement iPhone 4s ?\n",
      "Not sure if I want one after having 2 duff iPhones.\n",
      "@O2 @iphone4s @apple\n",
      "Tweet fetchedSo apparently @apple put MB cap on your SMS with the new update. 25mb storage before it tells you your inbox is full. What is this 2001?\n",
      "Tweet fetchedYou know @apple It's been almost a week since I paid for iTunes Match, I would really like to use it. Any ETA on a fix?\n",
      "Tweet fetchedremoving all @apple shit.\n",
      "Tweet fetchedSo @PhoenixSwinger 's iPhone 4 is giving her a hella hard time w/ the iOS5 update @apple\n",
      "[{'code': 144, 'message': 'No status found with that ID.'}]\n",
      "Tweet fetched@Apple can't send me an iPhone preordered 1hr after launching but they cans send 5 or 10 to all the jackasses who want to shoot or blend 'em\n",
      "Tweet fetchedGotta say the @Apple itouch iphone shuffle etc.. sound quality is AWFUL.. painfully crap. Its been a downgrade from @Sony sound quality wise\n",
      "Tweet fetched@bisquiat @Apple the upgrade just slows down my phone so much, it's stuck half the time. uch. thankfully no other damage. sucks for you :(\n",
      "Tweet fetched@Mayati I think @Apple didn't do such a thorough job with the step x steps for upgrade and move to iCloud. Now it's cost me mightily.\n",
      "Tweet fetchedHey @apple now I have iOS5 my iPhone doesn't include songs that are on compilation albums under the artist's name. #whaddupwitdat\n",
      "Tweet fetched@NickTheFNicon He can send but not rcve txts so he has an apt @apple at 4pm.Then he exclaims: And I waited a whole YEAR for this phone!!LMAO\n",
      "Tweet fetchedTotal chaos at @apple store regent street. Like an Ethiopian feeding station. Can't believe this is same co. that makes all that cool shit.\n",
      "Tweet fetched@FishMama: If you made a purchase, just wait for the @apple survey! hate going b/c of the bad #custserv\n",
      "Tweet fetchedCorrection: @ Best Buy kudos to Chris @ Alamo Ranch S.A. TX-fixed issues couldn't resolve after 1/2 day w/ @ATT & @Apple. Hero of my day!\n",
      "Tweet fetched@phxguy88 @Apple @BGR That's why all the ppl who stand in line for hrs to get the \"newest\" model are suckers...\n",
      "Tweet fetchedWould it kill @apple to put a braille type bump on their earbuds so we know which bud is R and L in the dark.\n",
      "Tweet fetched@APPLE Wow @MOTOROLA Just crushed your dreams....\n",
      "[{'code': 144, 'message': 'No status found with that ID.'}]\n",
      "[{'code': 144, 'message': 'No status found with that ID.'}]\n",
      "Tweet fetchedOh, just fuck you, @apple. Already?? ---&gt;  iPhone 5 on schedule for summer launch? http://t.co/Ofh9PTaG via @BGR\n",
      "[{'code': 144, 'message': 'No status found with that ID.'}]\n",
      "Tweet fetched@apple, \n",
      "No, I won't wait until thursday for an available appointment just so a 'genius' can tell me I'm shit out of luck. #now\n",
      "[{'code': 144, 'message': 'No status found with that ID.'}]\n",
      "Tweet fetched@Apple, on the #iPad with #iOS5, why has the Messages Icon been included when it can't be used?\n",
      "Tweet fetched@Steelo254 yea! I pre-order through @apple and they sorry too just like #AT&T\n",
      "Tweet fetchedInteresting... @apple now requires you to have a reservation ?         #apple #iphone #4S    :  http://t.co/zZK4fTii\n",
      "Tweet fetched@apple why is my iPhone battery so crappy #fail\n",
      "Tweet fetchedMy @Apple @macbook keyboard will not type :(\n",
      "[{'code': 144, 'message': 'No status found with that ID.'}]\n",
      "[{'code': 144, 'message': 'No status found with that ID.'}]\n",
      "Tweet fetchedWhy doesn't @apple iCloud sync Stickies? They've always been around, just nothing every progressed w/ them!! Why apple why?  @gruber\n",
      "Tweet fetched@apple, your new \"Save a Version\" function in Pages is absolutely the most awful, interrupting, counter-intuitive piece of crap in the world\n",
      "[{'code': 144, 'message': 'No status found with that ID.'}]\n",
      "Tweet fetchedI hate my @apple computer.  Thats 3500 dollars down the drain.\n",
      "[{'code': 144, 'message': 'No status found with that ID.'}]\n",
      "Tweet fetched@apple my iPhone is charging very slowly!!!!!\n",
      "Tweet fetched@Apple #iOS5 gm on ipad1 is very slow wash better on beta7/8 solve this problem, or give me the ipad2\n",
      "Tweet fetched@apple Wish I could pick month, day, and YEAR when setting a new calendar item on my iPhone. Why hasn't the new iOS fixed this yet?!\n",
      "[{'code': 144, 'message': 'No status found with that ID.'}]\n",
      "[{'code': 144, 'message': 'No status found with that ID.'}]\n",
      "Tweet fetched@Apple iTunes is the worst program ever. For such a great phone, you make some awful software.\n",
      "'charmap' codec can't encode characters in position 19-20: character maps to <undefined>\n",
      "'charmap' codec can't encode character '\\U0001f4f1' in position 42: character maps to <undefined>\n"
     ]
    }
   ],
   "source": [
    "def createLimitedTrainingCorpus(corpusFile,tweetDataFile):\n",
    "    import csv\n",
    "    corpus=[]\n",
    "    with open(corpusFile,'r') as csvfile:\n",
    "        lineReader = csv.reader(csvfile,delimiter=',',quotechar=\"\\\"\")\n",
    "        for row in lineReader:\n",
    "            corpus.append({\"tweet_id\":row[2],\"label\":row[1],\"topic\":row[0]})\n",
    "    \n",
    "    trainingData=[]\n",
    "    for label in [\"positive\",\"negative\"]:\n",
    "        i=1\n",
    "        for tweet in corpus:\n",
    "            if tweet[\"label\"]==label and i<=50:\n",
    "                try:\n",
    "                    status=twitter_api.GetStatus(tweet[\"tweet_id\"])\n",
    "                    #Returns a twitter.Status object \n",
    "                    print (\"Tweet fetched\" + status.text)\n",
    "                    tweet[\"text\"]=status.text\n",
    "                    #tweet is a dictionary which already has tweet_id and label (positive/negative/neutral)\n",
    "                    # Add another attribute now, the tweet text \n",
    "                    trainingData.append(tweet)\n",
    "                    i=i+1\n",
    "                except Exception as e: \n",
    "                    print(e)\n",
    "                    \n",
    "  \n",
    "    with open(tweetDataFile,'w') as csvfile:\n",
    "        linewriter=csv.writer(csvfile,delimiter=',',quotechar=\"\\\"\")\n",
    "        for tweet in trainingData:\n",
    "            try:\n",
    "                linewriter.writerow([tweet[\"tweet_id\"],tweet[\"text\"],tweet[\"label\"],tweet[\"topic\"]])\n",
    "            except Exception as e:\n",
    "                print(e)\n",
    "    return trainingData\n",
    "\n",
    "corpusFile = \"C:/Users/Dell/Desktop/Sentiment Analysis/corpusFile.csv\"\n",
    "tweetDataFile = \"C:/Users/Dell/Desktop/Sentiment Analysis/tweetDataFile.csv\"\n",
    "\n",
    "trainingData=createLimitedTrainingCorpus(corpusFile,tweetDataFile)\n"
   ]
  },
  {
   "cell_type": "code",
   "execution_count": 12,
   "metadata": {
    "scrolled": false
   },
   "outputs": [
    {
     "name": "stdout",
     "output_type": "stream",
     "text": [
      "[{'tweet_id': '126415614616154112', 'label': 'positive', 'topic': 'apple', 'text': 'Now all @Apple has to do is get swype on the iphone and it will be crack. Iphone that is'}, {'tweet_id': '126402758403305474', 'label': 'positive', 'topic': 'apple', 'text': \"Hilarious @youtube video - guy does a duet with @apple 's Siri. Pretty much sums up the love affair! http://t.co/8ExbnQjY\"}, {'tweet_id': '126397179614068736', 'label': 'positive', 'topic': 'apple', 'text': '@RIM you made it too easy for me to switch to @Apple iPhone. See ya!'}, {'tweet_id': '126379685453119488', 'label': 'positive', 'topic': 'apple', 'text': 'The 16 strangest things Siri has said so far. I am SOOO glad that @Apple gave Siri a sense of humor! http://t.co/TWAeUDBp via @HappyPlace'}, {'tweet_id': '126377656416612353', 'label': 'positive', 'topic': 'apple', 'text': 'Great up close & personal event @Apple tonight in Regent St store!'}, {'tweet_id': '126373779483004928', 'label': 'positive', 'topic': 'apple', 'text': 'From which companies do you experience the best customer service aside from @zappos and @apple?'}, {'tweet_id': '126365858481188864', 'label': 'positive', 'topic': 'apple', 'text': 'Lmao I think @apple is onto something magical! I am DYING!!! haha. Siri suggested where to find whores and where to hide a body lolol'}, {'tweet_id': '126360935509135362', 'label': 'positive', 'topic': 'apple', 'text': \"RT @PhillipRowntree: Just registered as an @apple developer... Here's hoping I can actually do it... Any help, greatly appreciated!\"}, {'tweet_id': '126360398885687296', 'label': 'positive', 'topic': 'apple', 'text': 'Wow. Great deals on refurbed #iPad (first gen) models. RT: Apple offers great deals on refurbished 1st-gen iPads http://t.co/ukWOKBGd @Apple'}, {'tweet_id': '126358340220616704', 'label': 'positive', 'topic': 'apple', 'text': \"Just registered as an @apple developer... Here's hoping I can actually do it... Any help, greatly appreciated!\"}, {'tweet_id': '126357982685569024', 'label': 'positive', 'topic': 'apple', 'text': '你好 ! Currently learning Mandarin for my upcoming trip to Hong Kong. I gotta hand it to @Apple iPhones & their uber useful flashcard apps  \\ue516\\ue513'}, {'tweet_id': '126352268705538048', 'label': 'positive', 'topic': 'apple', 'text': 'Come to the dark side 📱“@gretcheneclark: Hey @apple, if you send me a free iPhone, I will publicly and ceremoniously burn my #BlackBerry.”'}, {'tweet_id': '126342268603998208', 'label': 'positive', 'topic': 'apple', 'text': 'Thanks to @Apple Covent Garden #GeniusBar for replacing my MacBook keyboard/cracked wristpad during my lunch break today, out of warranty.'}, {'tweet_id': '126325800080392193', 'label': 'positive', 'topic': 'apple', 'text': '@DailyDealChat @apple Thanks!!'}, {'tweet_id': '126324177501302784', 'label': 'positive', 'topic': 'apple', 'text': 'iPads Replace Bound Playbooks on Some N.F.L. Teams http://t.co/2UXAWKwf @apple @nytimes'}, {'tweet_id': '126322063332999169', 'label': 'positive', 'topic': 'apple', 'text': '@apple @siri is efffing amazing!!'}, {'tweet_id': '126318009647235072', 'label': 'positive', 'topic': 'apple', 'text': 'RT @TripLingo: We\\'re one of a few \"Featured Education Apps\" on the @Apple **Website** today, sweet! http://t.co/0yWvbe1Z'}, {'tweet_id': '126315223060709376', 'label': 'positive', 'topic': 'apple', 'text': 'We\\'re one of a few \"Featured Education Apps\" on the @Apple **Website** today, sweet! http://t.co/0yWvbe1Z'}, {'tweet_id': '126314687116750849', 'label': 'positive', 'topic': 'apple', 'text': 'We did an unexpected workshop for the #iPhone4S at @apple yesterday and we got an awesome amount of info #notjustaboutthephone @gamerchik16'}, {'tweet_id': '126311981564178432', 'label': 'positive', 'topic': 'apple', 'text': '---» RT @Apple No question bro. RT @AintEeenTrippin: Should I get dis iPhone or a EVO 3D?'}, {'tweet_id': '126307801046847488', 'label': 'positive', 'topic': 'apple', 'text': \"RT @imightbewrong: I'm OVER people bitching about the #iPhone4S... I think it's the smartest phone I've ever had and I'm very happy.   : ...\"}, {'tweet_id': '126302673820594176', 'label': 'positive', 'topic': 'apple', 'text': \"I'm OVER people bitching about the #iPhone4S... I think it's the smartest phone I've ever had and I'm very happy.   :)  Way to go @Apple!\"}, {'tweet_id': '126301956951117826', 'label': 'positive', 'topic': 'apple', 'text': \"@Twitter CEO points to @Apple as 'corporate mentor' as @iOS signups triple http://t.co/GCY8iphN\"}, {'tweet_id': '126287654093471745', 'label': 'positive', 'topic': 'apple', 'text': 'At the bus with my iPhone ;) thxx @apple'}, {'tweet_id': '126284506360578049', 'label': 'positive', 'topic': 'apple', 'text': '@azee1v1 @apple @umber AppStore is well done, so is iTunes on the mobile devices.  I was talking about desktop app.'}, {'tweet_id': '126263834968211456', 'label': 'positive', 'topic': 'apple', 'text': 'NYTimes: Coach Wants to See You. And Bring Your iPad. http://t.co/J2FTiEnG #iPad @apple set red 42 red 42 hut hut @NFL wish I had an #iPad'}, {'tweet_id': '126256230397259776', 'label': 'positive', 'topic': 'apple', 'text': '@apple @jilive @DanielPink: Apple sells 4 million iPhone 4S units in first weekend ... Steve Jobs brilliance lives on for ever! #iphone #RVA'}, {'tweet_id': '126195522691280896', 'label': 'positive', 'topic': 'apple', 'text': '@bkad5161 than apologize to @apple ;)'}, {'tweet_id': '126183339945234432', 'label': 'positive', 'topic': 'apple', 'text': '@Apple downloads of iOS 5 are proving popular with users  -- http://t.co/NSHLfiUX'}, {'tweet_id': '126180209501286400', 'label': 'positive', 'topic': 'apple', 'text': 'Lmfao look at the argument I had with Siri !!\\n@ijustine @apple http://t.co/D4VjL7SI'}, {'tweet_id': '126164430546403328', 'label': 'positive', 'topic': 'apple', 'text': 'Incredible: 4 million iPhone 4Ss in 3 days. 135% better than the iPhone 4 http://t.co/1FMJxTMM @apple #iphone4s'}, {'tweet_id': '126140794078892033', 'label': 'positive', 'topic': 'apple', 'text': \"Well @apple fixed my #ios5 battery drain problem with a replacement iPhone 4 -- it's working like a champ now\"}, {'tweet_id': '126134400466419712', 'label': 'positive', 'topic': 'apple', 'text': \"Currently ordering a BRAND NEW MACBOOK PRO!!! Bahhh... my MacBook is 5 years old. I'll miss it. But it's time. cc: @Apple -\"}, {'tweet_id': '126116898051076096', 'label': 'positive', 'topic': 'apple', 'text': '#Siri now knows who my dad, mom, brother and girlfriend is.  Thanks @apple'}, {'tweet_id': '126116614495154176', 'label': 'positive', 'topic': 'apple', 'text': 'Well at least the @apple store has amazing call waiting music! #need4s'}, {'tweet_id': '126112836219973632', 'label': 'positive', 'topic': 'apple', 'text': '#sweet... #apple replaced my glass #probono. thank you @apple'}, {'tweet_id': '126107965991297024', 'label': 'positive', 'topic': 'apple', 'text': 'Not Bad! @Apple Sells Over 4 Million #IPhones in Debut Weekend - Bloomberg http://t.co/AVSl3ygU - #smartphone #sm RT @VinodRad'}, {'tweet_id': '126104732426186752', 'label': 'positive', 'topic': 'apple', 'text': 'loving new technology from @apple iPhone 4s, mac air and iCloud are unreal #technology'}, {'tweet_id': '126097426493878272', 'label': 'positive', 'topic': 'apple', 'text': \"I'm loving this new IOS5 update :) @apple\"}, {'tweet_id': '126095744531832832', 'label': 'positive', 'topic': 'apple', 'text': 'Another mention for Apple Store: http://t.co/fiIOApKt - RT @floridamike Once again getting great customer service from the @apple store ...'}, {'tweet_id': '126084907343691776', 'label': 'positive', 'topic': 'apple', 'text': 'Time to go get my iPhone 4s.  Looking forward to sticking it to the man by no longer paying for most texts.  Thanks @apple.'}, {'tweet_id': '126079414986485761', 'label': 'positive', 'topic': 'apple', 'text': 'hey @apple I hate my computer i need a #mack wanna send me a free one.'}, {'tweet_id': '126076238375817216', 'label': 'positive', 'topic': 'apple', 'text': '#iCloud set up was flawless and works like a champ! To the Cloud @Apple'}, {'tweet_id': '126075534894571520', 'label': 'positive', 'topic': 'apple', 'text': \"@Wisconsin_Mommy @Apple I'd totally email the company... I always get great service at our @Apple store!\"}, {'tweet_id': '126064519943426048', 'label': 'positive', 'topic': 'apple', 'text': '@apple loving the new IOS5 upgrade for the iPhone!'}, {'tweet_id': '126063358037340161', 'label': 'positive', 'topic': 'apple', 'text': 'Once again getting great customer service from the @apple store at millenia mall.'}, {'tweet_id': '126059405941809152', 'label': 'positive', 'topic': 'apple', 'text': 'Is it just me or is #iOS5 faster for the iPad? @apple'}, {'tweet_id': '126057030996852737', 'label': 'positive', 'topic': 'apple', 'text': 'making the switch from @Android to @Apple #iphone #iphone4S #smartphone #stevejobs (@ Apple Store) http://t.co/kj6pJvkH'}, {'tweet_id': '126049183865114624', 'label': 'positive', 'topic': 'apple', 'text': 'So THANKFUL for the incredible people @apple for going above and beyond and offering to and replacing my  water-damaged Macbook Pro!!! Wow!'}, {'tweet_id': '126040074595999746', 'label': 'positive', 'topic': 'apple', 'text': 'Play on ma man. Loving the camera in the #iphone4s. Well done @apple  #fb http://t.co/tmdFqRe1'}, {'tweet_id': '126418790706712576', 'label': 'negative', 'topic': 'apple', 'text': 'RT @cjwallace03: So apparently @apple put MB cap on your SMS with the new update. 25mb storage before it tells you your inbox is full. W ...'}, {'tweet_id': '126417285559762944', 'label': 'negative', 'topic': 'apple', 'text': 'RT @Jewelz2611 @mashable @apple, iphones r 2 expensive. Most went w/ htc/galaxy. No customer loyalty w/phone comp..'}, {'tweet_id': '126416915664084992', 'label': 'negative', 'topic': 'apple', 'text': '@mashable @apple, iphones r 2 expensive. Most went w/ htc/galaxy. No customer loyalty w/phone comp..'}, {'tweet_id': '126411162622496768', 'label': 'negative', 'topic': 'apple', 'text': '@apple why my tunes no go on my iPhone? iPhone lonely without them. silly #iOS5'}, {'tweet_id': '126410591949697024', 'label': 'negative', 'topic': 'apple', 'text': '@apple needs to hurry up and release #iTunesMatch'}, {'tweet_id': '126409696553861121', 'label': 'negative', 'topic': 'apple', 'text': 'Why is  #Siri always down @apple'}, {'tweet_id': '126408864387182593', 'label': 'negative', 'topic': 'apple', 'text': 'I just need to exchange a cord at the apple store why do I have to wait for a genius? @apple'}, {'tweet_id': '126408052525105153', 'label': 'negative', 'topic': 'apple', 'text': '@apple AirDrop #fail - Immediate \"declined your request.\" every time'}, {'tweet_id': '126405185630253056', 'label': 'negative', 'topic': 'apple', 'text': 'Yellowgate? Some iPhone 4S Users Complain of Yellow Tint to Screen http://t.co/uaqrxTNk @apple @iphone4s'}, {'tweet_id': '126405040809312256', 'label': 'negative', 'topic': 'apple', 'text': 'The one #iphone feature still missing since @apple first showed it.. Contacts pictures on the contacts list! Simple yet 5 major updates miss'}, {'tweet_id': '126400637930979329', 'label': 'negative', 'topic': 'apple', 'text': \"Asked siri is she dreams of electric sleep. Was disappointed that she didn't have a snippy answer.  Missed opportunity @apple\"}, {'tweet_id': '126393204550537216', 'label': 'negative', 'topic': 'apple', 'text': 'FUCK YOU @apple DIE IN A FUCKING BLAZE INFERNO.'}, {'tweet_id': '126392402083708928', 'label': 'negative', 'topic': 'apple', 'text': \"Oh, @apple. Steve obviously had nothing to do with iPhoto, as it's the perfect opposite of 'insanely great'. Get it fixed, please.\"}, {'tweet_id': '126385036441296896', 'label': 'negative', 'topic': 'apple', 'text': 'shit, shit, shit. IOS5 update ate all my apps, data and media just like @apple said it would. This is going to take some time to rebuild.'}, {'tweet_id': '126382959711358976', 'label': 'negative', 'topic': 'apple', 'text': \". @apple & @AT&T u cannot tell me there isn't at least 1 64GB iPhone 4S in LA or Vegas!! Give me a fucking break!!!!\"}, {'tweet_id': '126382051661328385', 'label': 'negative', 'topic': 'apple', 'text': 'Love @apple downloads. 4 hours and i-pad now wonky! #ripstevejobs #thenonsensepersists #neednewipadguide #fatfuckingchance'}, {'tweet_id': '126381519513194497', 'label': 'negative', 'topic': 'apple', 'text': 'Dear @apple My new Air is now a notbook since your update killed #wifi #bug #destroying #productivity'}, {'tweet_id': '126380588822298625', 'label': 'negative', 'topic': 'apple', 'text': \"I am so done with @Att and @apple 's profitering and lack of customer service, so fucking down with both!!!\"}, {'tweet_id': '126377298650861568', 'label': 'negative', 'topic': 'apple', 'text': \"@apple thank you for ruining my 3GS with #iOS5. You've just turned my phone into an utterly useless pile of shit.\"}, {'tweet_id': '126375381249966080', 'label': 'negative', 'topic': 'apple', 'text': '@rogerweir no but I have the option of a  replacement iPhone 4s ?\\nNot sure if I want one after having 2 duff iPhones.\\n@O2 @iphone4s @apple'}, {'tweet_id': '126372694118768640', 'label': 'negative', 'topic': 'apple', 'text': 'So apparently @apple put MB cap on your SMS with the new update. 25mb storage before it tells you your inbox is full. What is this 2001?'}, {'tweet_id': '126372040696541184', 'label': 'negative', 'topic': 'apple', 'text': \"You know @apple It's been almost a week since I paid for iTunes Match, I would really like to use it. Any ETA on a fix?\"}, {'tweet_id': '126363154837020672', 'label': 'negative', 'topic': 'apple', 'text': 'removing all @apple shit.'}, {'tweet_id': '126361483432038400', 'label': 'negative', 'topic': 'apple', 'text': \"So @PhoenixSwinger 's iPhone 4 is giving her a hella hard time w/ the iOS5 update @apple\"}, {'tweet_id': '126358301393956866', 'label': 'negative', 'topic': 'apple', 'text': \"@Apple can't send me an iPhone preordered 1hr after launching but they cans send 5 or 10 to all the jackasses who want to shoot or blend 'em\"}, {'tweet_id': '126358272084152320', 'label': 'negative', 'topic': 'apple', 'text': 'Gotta say the @Apple itouch iphone shuffle etc.. sound quality is AWFUL.. painfully crap. Its been a downgrade from @Sony sound quality wise'}, {'tweet_id': '126357580741226496', 'label': 'negative', 'topic': 'apple', 'text': \"@bisquiat @Apple the upgrade just slows down my phone so much, it's stuck half the time. uch. thankfully no other damage. sucks for you :(\"}, {'tweet_id': '126357227727626240', 'label': 'negative', 'topic': 'apple', 'text': \"@Mayati I think @Apple didn't do such a thorough job with the step x steps for upgrade and move to iCloud. Now it's cost me mightily.\"}, {'tweet_id': '126354628999778305', 'label': 'negative', 'topic': 'apple', 'text': \"Hey @apple now I have iOS5 my iPhone doesn't include songs that are on compilation albums under the artist's name. #whaddupwitdat\"}, {'tweet_id': '126351972948393984', 'label': 'negative', 'topic': 'apple', 'text': '@NickTheFNicon He can send but not rcve txts so he has an apt @apple at 4pm.Then he exclaims: And I waited a whole YEAR for this phone!!LMAO'}, {'tweet_id': '126348169826148352', 'label': 'negative', 'topic': 'apple', 'text': \"Total chaos at @apple store regent street. Like an Ethiopian feeding station. Can't believe this is same co. that makes all that cool shit.\"}, {'tweet_id': '126344426854416385', 'label': 'negative', 'topic': 'apple', 'text': '@FishMama: If you made a purchase, just wait for the @apple survey! hate going b/c of the bad #custserv'}, {'tweet_id': '126343931117047808', 'label': 'negative', 'topic': 'apple', 'text': \"Correction: @ Best Buy kudos to Chris @ Alamo Ranch S.A. TX-fixed issues couldn't resolve after 1/2 day w/ @ATT & @Apple. Hero of my day!\"}, {'tweet_id': '126343679785959424', 'label': 'negative', 'topic': 'apple', 'text': '@phxguy88 @Apple @BGR That\\'s why all the ppl who stand in line for hrs to get the \"newest\" model are suckers...'}, {'tweet_id': '126343214805426176', 'label': 'negative', 'topic': 'apple', 'text': 'Would it kill @apple to put a braille type bump on their earbuds so we know which bud is R and L in the dark.'}, {'tweet_id': '126334597431697408', 'label': 'negative', 'topic': 'apple', 'text': '@APPLE Wow @MOTOROLA Just crushed your dreams....'}, {'tweet_id': '126331327271284736', 'label': 'negative', 'topic': 'apple', 'text': 'Oh, just fuck you, @apple. Already?? ---&gt;  iPhone 5 on schedule for summer launch? http://t.co/Ofh9PTaG via @BGR'}, {'tweet_id': '126327808803880960', 'label': 'negative', 'topic': 'apple', 'text': \"@apple, \\nNo, I won't wait until thursday for an available appointment just so a 'genius' can tell me I'm shit out of luck. #now\"}, {'tweet_id': '126324573384871936', 'label': 'negative', 'topic': 'apple', 'text': \"@Apple, on the #iPad with #iOS5, why has the Messages Icon been included when it can't be used?\"}, {'tweet_id': '126324389741473792', 'label': 'negative', 'topic': 'apple', 'text': '@Steelo254 yea! I pre-order through @apple and they sorry too just like #AT&T'}, {'tweet_id': '126324077513293824', 'label': 'negative', 'topic': 'apple', 'text': 'Interesting... @apple now requires you to have a reservation ?         #apple #iphone #4S    :  http://t.co/zZK4fTii'}, {'tweet_id': '126321169468100609', 'label': 'negative', 'topic': 'apple', 'text': '@apple why is my iPhone battery so crappy #fail'}, {'tweet_id': '126320033369563138', 'label': 'negative', 'topic': 'apple', 'text': 'My @Apple @macbook keyboard will not type :('}, {'tweet_id': '126310645443461121', 'label': 'negative', 'topic': 'apple', 'text': \"Why doesn't @apple iCloud sync Stickies? They've always been around, just nothing every progressed w/ them!! Why apple why?  @gruber\"}, {'tweet_id': '126309616391950336', 'label': 'negative', 'topic': 'apple', 'text': '@apple, your new \"Save a Version\" function in Pages is absolutely the most awful, interrupting, counter-intuitive piece of crap in the world'}, {'tweet_id': '126307071984545793', 'label': 'negative', 'topic': 'apple', 'text': 'I hate my @apple computer.  Thats 3500 dollars down the drain.'}, {'tweet_id': '126302386644975616', 'label': 'negative', 'topic': 'apple', 'text': '@apple my iPhone is charging very slowly!!!!!'}, {'tweet_id': '126299379832336384', 'label': 'negative', 'topic': 'apple', 'text': '@Apple #iOS5 gm on ipad1 is very slow wash better on beta7/8 solve this problem, or give me the ipad2'}, {'tweet_id': '126297326565330944', 'label': 'negative', 'topic': 'apple', 'text': \"@apple Wish I could pick month, day, and YEAR when setting a new calendar item on my iPhone. Why hasn't the new iOS fixed this yet?!\"}, {'tweet_id': '126292335540699136', 'label': 'negative', 'topic': 'apple', 'text': '@Apple iTunes is the worst program ever. For such a great phone, you make some awful software.'}]\n"
     ]
    }
   ],
   "source": [
    "print(trainingData)"
   ]
  },
  {
   "cell_type": "code",
   "execution_count": 15,
   "metadata": {},
   "outputs": [
    {
     "name": "stderr",
     "output_type": "stream",
     "text": [
      "[nltk_data] Downloading package stopwords to\n",
      "[nltk_data]     C:\\Users\\Dell\\AppData\\Roaming\\nltk_data...\n",
      "[nltk_data]   Package stopwords is already up-to-date!\n"
     ]
    }
   ],
   "source": [
    "import nltk\n",
    "from nltk.corpus import stopwords\n",
    "nltk.download('stopwords')\n",
    "stopwords = stopwords.words('english')"
   ]
  },
  {
   "cell_type": "code",
   "execution_count": 17,
   "metadata": {},
   "outputs": [
    {
     "name": "stderr",
     "output_type": "stream",
     "text": [
      "[nltk_data] Downloading package punkt to\n",
      "[nltk_data]     C:\\Users\\Dell\\AppData\\Roaming\\nltk_data...\n",
      "[nltk_data]   Unzipping tokenizers\\punkt.zip.\n"
     ]
    },
    {
     "data": {
      "text/plain": [
       "True"
      ]
     },
     "execution_count": 17,
     "metadata": {},
     "output_type": "execute_result"
    }
   ],
   "source": [
    "nltk.download('punkt')"
   ]
  },
  {
   "cell_type": "code",
   "execution_count": 23,
   "metadata": {},
   "outputs": [],
   "source": [
    "import re\n",
    "from nltk.tokenize import word_tokenize\n",
    "from string import punctuation \n",
    "from nltk.corpus import stopwords \n",
    "from stop_words import get_stop_words\n",
    "\n",
    "class PreProcessTweets:\n",
    "    def __init__(self):\n",
    "        self._stopwords = set(stopwords.words('english') + list(punctuation) + ['AT_USER','URL'])\n",
    "   \n",
    "    def processTweets(self, list_of_tweets):\n",
    "        processedTweets=[]\n",
    "        for tweet in list_of_tweets:\n",
    "            processedTweets.append((self._processTweet(tweet[\"text\"]),tweet[\"label\"]))\n",
    "        return processedTweets\n",
    "    \n",
    "    def _processTweet(self, tweet):\n",
    "        tweet = tweet.lower() # convert text to lower-case\n",
    "        tweet = re.sub('((www\\.[^\\s]+)|(https?://[^\\s]+))', 'URL', tweet) # remove URLs\n",
    "        tweet = re.sub('@[^\\s]+', 'AT_USER', tweet) # remove usernames\n",
    "        tweet = re.sub(r'#([^\\s]+)', r'\\1', tweet) # remove the # in #hashtag\n",
    "        tweet = word_tokenize(tweet) # remove repeated characters (helloooooooo into hello)\n",
    "        return [word for word in tweet if word not in self._stopwords]\n",
    "    \n",
    "tweetProcessor = PreProcessTweets()\n",
    "preprocessedTrainingSet = tweetProcessor.processTweets(trainingData)\n",
    "preprocessedTestSet = tweetProcessor.processTweets(testDataSet)\n",
    "\n"
   ]
  },
  {
   "cell_type": "code",
   "execution_count": 24,
   "metadata": {},
   "outputs": [],
   "source": [
    "import nltk \n",
    "\n",
    "def buildVocabulary(preprocessedTrainingData):\n",
    "    all_words = []\n",
    "    \n",
    "    for (words, sentiment) in preprocessedTrainingData:\n",
    "        all_words.extend(words)\n",
    "\n",
    "    wordlist = nltk.FreqDist(all_words)\n",
    "    word_features = wordlist.keys()\n",
    "    \n",
    "    return word_features"
   ]
  },
  {
   "cell_type": "code",
   "execution_count": 25,
   "metadata": {},
   "outputs": [],
   "source": [
    "def extract_features(tweet):\n",
    "    tweet_words=set(tweet)\n",
    "    features={}\n",
    "    for word in word_features:\n",
    "        features['contains(%s)' % word]=(word in tweet_words)\n",
    "    return features \n"
   ]
  },
  {
   "cell_type": "code",
   "execution_count": 28,
   "metadata": {},
   "outputs": [],
   "source": [
    "word_features = buildVocabulary(preprocessedTrainingSet)\n",
    "trainingFeatures = nltk.classify.apply_features(extract_features, preprocessedTrainingSet)"
   ]
  },
  {
   "cell_type": "code",
   "execution_count": 29,
   "metadata": {},
   "outputs": [],
   "source": [
    "NBayesClassifier = nltk.NaiveBayesClassifier.train(trainingFeatures)"
   ]
  },
  {
   "cell_type": "code",
   "execution_count": 31,
   "metadata": {},
   "outputs": [
    {
     "name": "stdout",
     "output_type": "stream",
     "text": [
      "Overall Positive Sentiment\n",
      "Positive Sentiment Percentage = 90.0%\n"
     ]
    }
   ],
   "source": [
    "NBResultLabels = [NBayesClassifier.classify(extract_features(tweet[0])) for tweet in preprocessedTestSet]\n",
    "\n",
    "# get the majority vote\n",
    "if NBResultLabels.count('positive') > NBResultLabels.count('negative'):\n",
    "    print(\"Overall Positive Sentiment\")\n",
    "    print(\"Positive Sentiment Percentage = \" + str(100*NBResultLabels.count('positive')/len(NBResultLabels)) + \"%\")\n",
    "else: \n",
    "    print(\"Overall Negative Sentiment\")\n",
    "    print(\"Negative Sentiment Percentage = \" + str(100*NBResultLabels.count('negative')/len(NBResultLabels)) + \"%\")\n"
   ]
  },
  {
   "cell_type": "code",
   "execution_count": 33,
   "metadata": {},
   "outputs": [
    {
     "name": "stdout",
     "output_type": "stream",
     "text": [
      "Overall Negative Sentiment\n",
      "Negative Sentiment Percentage = 10.0%\n"
     ]
    }
   ],
   "source": [
    "print(\"Overall Negative Sentiment\")\n",
    "print(\"Negative Sentiment Percentage = \" + str(100*NBResultLabels.count('negative')/len(NBResultLabels)) + \"%\")"
   ]
  },
  {
   "cell_type": "code",
   "execution_count": null,
   "metadata": {},
   "outputs": [],
   "source": []
  }
 ],
 "metadata": {
  "kernelspec": {
   "display_name": "Python 3",
   "language": "python",
   "name": "python3"
  },
  "language_info": {
   "codemirror_mode": {
    "name": "ipython",
    "version": 3
   },
   "file_extension": ".py",
   "mimetype": "text/x-python",
   "name": "python",
   "nbconvert_exporter": "python",
   "pygments_lexer": "ipython3",
   "version": "3.6.7"
  }
 },
 "nbformat": 4,
 "nbformat_minor": 2
}
